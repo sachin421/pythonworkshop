{
 "cells": [
  {
   "cell_type": "code",
   "execution_count": 1,
   "metadata": {},
   "outputs": [
    {
     "name": "stdout",
     "output_type": "stream",
     "text": [
      "Enter the first side2\n",
      "Enter the second side5\n",
      "Enter the third side7\n",
      "First side: 2 , Second side: 5 , Third side: 7\n"
     ]
    }
   ],
   "source": [
    "#q1\n",
    "class Triangle:\n",
    "    def __init__(self):\n",
    "        self.a = 0\n",
    "        self.b = 0\n",
    "        self.c = 0\n",
    "        \n",
    "    def create_triangle(self):\n",
    "        self.a = int(input(\"Enter the first side\"))\n",
    "        self.b = int(input(\"Enter the second side\"))\n",
    "        self.c = int(input(\"Enter the third side\"))\n",
    "\n",
    "    def print_sides(self):\n",
    "        print(\"First side:\",self.a,\", Second side:\",self.b,\", Third side:\",self.c)\n",
    "\n",
    "x = Triangle()\n",
    "x.create_triangle()\n",
    "x.print_sides()\n"
   ]
  },
  {
   "cell_type": "code",
   "execution_count": 2,
   "metadata": {},
   "outputs": [
    {
     "name": "stdout",
     "output_type": "stream",
     "text": [
      "Enter the stringAbc\n",
      "Abc\n"
     ]
    }
   ],
   "source": [
    "#q2\n",
    "class String():\n",
    "    def __init__(self):\n",
    "        self.str1 = \"\"\n",
    "\n",
    "    def inputstr(self):\n",
    "        self.str1 = input(\"Enter the string\")\n",
    "\n",
    "    def printstr(self):\n",
    "        print(self.str1)\n",
    "\n",
    "x = String()\n",
    "x.inputstr()\n",
    "x.printstr()\n"
   ]
  },
  {
   "cell_type": "code",
   "execution_count": 3,
   "metadata": {},
   "outputs": [
    {
     "name": "stdout",
     "output_type": "stream",
     "text": [
      "The perimeter is :  10\n"
     ]
    },
    {
     "data": {
      "text/plain": [
       "13067"
      ]
     },
     "execution_count": 3,
     "metadata": {},
     "output_type": "execute_result"
    }
   ],
   "source": [
    "#q3\n",
    "class Rectangle:\n",
    "    def __init__(self,length,width):\n",
    "        self.length= length\n",
    "        self.width= width\n",
    "    def perimeter(self):\n",
    "        print(\"The perimeter is : \",2*(self.length+self.width))\n",
    "x = Rectangle(2,3)\n",
    "x.perimeter()\n",
    "13067\n"
   ]
  },
  {
   "cell_type": "code",
   "execution_count": 5,
   "metadata": {},
   "outputs": [
    {
     "name": "stdout",
     "output_type": "stream",
     "text": [
      "The area is:  200.96\n",
      "The perimeter is:  50.24\n"
     ]
    }
   ],
   "source": [
    "#q4\n",
    "class Circle:\n",
    "    def __init__(self,radius):\n",
    "        self.radius= radius\n",
    "        \n",
    "    def area(self):\n",
    "        print(\"The area is: \", 3.14*self.radius*self.radius)\n",
    "    \n",
    "    def perimeter(self):\n",
    "        print(\"The perimeter is: \", 2*3.14*self.radius)\n",
    "x=Circle(8)\n",
    "x.area()\n",
    "x.perimeter()\n"
   ]
  },
  {
   "cell_type": "code",
   "execution_count": 6,
   "metadata": {},
   "outputs": [
    {
     "name": "stdout",
     "output_type": "stream",
     "text": [
      "A\n",
      "B\n",
      "C\n"
     ]
    }
   ],
   "source": [
    "#q5\n",
    "class A:\n",
    "    def m(self):\n",
    "        print(\"A\")\n",
    "class B:\n",
    "    def n(self):\n",
    "        print(\"B\")\n",
    "class C(A,B):\n",
    "    def o(self):\n",
    "        print(\"C\")\n",
    "x=C()\n",
    "x.m()\n",
    "x.n()\n",
    "x.o()\n"
   ]
  },
  {
   "cell_type": "code",
   "execution_count": null,
   "metadata": {},
   "outputs": [],
   "source": []
  }
 ],
 "metadata": {
  "kernelspec": {
   "display_name": "Python 3",
   "language": "python",
   "name": "python3"
  },
  "language_info": {
   "codemirror_mode": {
    "name": "ipython",
    "version": 3
   },
   "file_extension": ".py",
   "mimetype": "text/x-python",
   "name": "python",
   "nbconvert_exporter": "python",
   "pygments_lexer": "ipython3",
   "version": "3.7.4"
  }
 },
 "nbformat": 4,
 "nbformat_minor": 2
}
